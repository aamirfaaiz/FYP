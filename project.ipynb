{
 "cells": [
  {
   "cell_type": "code",
   "execution_count": 1,
   "metadata": {},
   "outputs": [],
   "source": [
    "\"\"\"\n",
    "King's College London\n",
    "6CCS3EEP\n",
    "\n",
    "Implementation of C-Elegan Brain/Neuronal Dynamics using Spiking Neural Networks\n",
    "\n",
    "Author: Aamir Faaiz <mohamed.faaiz@kcl.ac.uk>\n",
    "        Xorsheed Zanjani <xorsheed.zanjani@kcl.ac.uk>\n",
    "Date: December 2020\n",
    "\n",
    "Instructions: Run this code block first\n",
    "Note: Kernal will have to be resarted to clear all variables stored in memory\n",
    "\"\"\"\n",
    "import numpy as np\n",
    "import matplotlib.pyplot as plt\n",
    "import time\n",
    "import neuron_params\n",
    "from weights import getMatrix,accessWeights\n",
    "from scipy.stats import norm\n",
    "\n",
    "plt.style.use('dark_background')"
   ]
  },
  {
   "cell_type": "markdown",
   "metadata": {},
   "source": [
    "### Dynamics Model & Neuron Circuit for Contour Tracking\n",
    "\n",
    "Schematic of the neural circuit for contour tracking. N1 is a temperature sensitive input neuron. N1 − N3 is a positive comparator, and N7−N8−N9 is a gradient detector. Similarly, N1−N2 is a complementary comparator, and N4 − N5 − N6 is a gradient detector. N6 and N9 control the deterministic turns, while N10 controls the random exploration.\n",
    "\n",
    "<img src=\"img/block-diagram.png\" alt=\"Block Diagram\" width=\"400\" height=\"400\"> <img src=\"img/neuron-circuit.png\" alt=\"Neuron Circuit\" width=\"400\" height=\"400\">"
   ]
  },
  {
   "cell_type": "code",
   "execution_count": 2,
   "metadata": {},
   "outputs": [
    {
     "data": {
      "text/plain": [
       "<matplotlib.colorbar.Colorbar at 0x10afa3c40>"
      ]
     },
     "execution_count": 2,
     "metadata": {},
     "output_type": "execute_result"
    },
    {
     "data": {
      "image/png": "[encoded data removed]",
      "text/plain": [
       "<Figure size 288x288 with 2 Axes>"
      ]
     },
     "metadata": {},
     "output_type": "display_data"
    }
   ],
   "source": [
    "#Displaying Connectivity Matrix\n",
    "connectivity_matrix = getMatrix()\n",
    "plt.matshow(connectivity_matrix)\n",
    "plt.colorbar()"
   ]
  },
  {
   "cell_type": "code",
   "execution_count": 3,
   "metadata": {},
   "outputs": [
    {
     "data": {
      "text/plain": [
       "-800.0"
      ]
     },
     "execution_count": 3,
     "metadata": {},
     "output_type": "execute_result"
    }
   ],
   "source": [
    "#Accessing w10,10(example)\n",
    "accessWeights(10,10)"
   ]
  }
 ],
 "metadata": {
  "kernelspec": {
   "display_name": "python3.8",
   "language": "python",
   "name": "python3.8"
  },
  "language_info": {
   "codemirror_mode": {
    "name": "ipython",
    "version": 3
   },
   "file_extension": ".py",
   "mimetype": "text/x-python",
   "name": "python",
   "nbconvert_exporter": "python",
   "pygments_lexer": "ipython3",
   "version": "3.8.3"
  }
 },
 "nbformat": 4,
 "nbformat_minor": 4
}
